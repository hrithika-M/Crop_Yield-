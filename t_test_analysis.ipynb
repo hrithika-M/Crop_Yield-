{
 "cells": [
  {
   "cell_type": "markdown",
   "id": "c37bd67a",
   "metadata": {},
   "source": [
    "# Crop Yield T-Test Analysis\n",
    "This notebook performs independent t-tests on crop yield data using Python."
   ]
  },
  {
   "cell_type": "code",
   "execution_count": null,
   "id": "ad356b91",
   "metadata": {},
   "outputs": [],
   "source": [
    "import pandas as pd\n",
    "from scipy.stats import ttest_ind"
   ]
  },
  {
   "cell_type": "code",
   "execution_count": null,
   "id": "f06a56c3",
   "metadata": {},
   "outputs": [],
   "source": [
    "# Load the dataset\n",
    "df = pd.read_csv(\"crop_yield.csv\")\n",
    "df.head()"
   ]
  },
  {
   "cell_type": "code",
   "execution_count": null,
   "id": "4b78c46b",
   "metadata": {},
   "outputs": [],
   "source": [
    "# Group the data\n",
    "group_A_high_water = df[(df['Fert'] == 'A') & (df['Water'] == 'High')]['Yield']\n",
    "group_A_low_water = df[(df['Fert'] == 'A') & (df['Water'] == 'Low')]['Yield']\n",
    "group_B_high_water = df[(df['Fert'] == 'B') & (df['Water'] == 'High')]['Yield']\n",
    "group_B_low_water = df[(df['Fert'] == 'B') & (df['Water'] == 'Low')]['Yield']\n",
    "\n",
    "group_A_high_water, group_A_low_water, group_B_high_water, group_B_low_water"
   ]
  },
  {
   "cell_type": "code",
   "execution_count": null,
   "id": "788dfb2e",
   "metadata": {},
   "outputs": [],
   "source": [
    "# T-Test for Group A\n",
    "t_statistic_A, p_value_A = ttest_ind(group_A_high_water, group_A_low_water)\n",
    "print('t_statistic_A, p_value_A =', t_statistic_A, p_value_A)"
   ]
  },
  {
   "cell_type": "code",
   "execution_count": null,
   "id": "e0aa994d",
   "metadata": {},
   "outputs": [],
   "source": [
    "# Conclusion for Group A\n",
    "print('Conclusion for Group A:')\n",
    "if p_value_A < 0.05:\n",
    "    print(\"Reject null hypothesis\")\n",
    "else:\n",
    "    print(\"Accept null hypothesis\")"
   ]
  },
  {
   "cell_type": "code",
   "execution_count": null,
   "id": "1a983d4f",
   "metadata": {},
   "outputs": [],
   "source": [
    "# T-Test for Group B\n",
    "t_statistic_B, p_value_B = ttest_ind(group_B_high_water, group_B_low_water)\n",
    "print('t_statistic_B, p_value_B =', t_statistic_B, p_value_B)"
   ]
  },
  {
   "cell_type": "code",
   "execution_count": null,
   "id": "49151465",
   "metadata": {},
   "outputs": [],
   "source": [
    "# Conclusion for Group B\n",
    "print('Conclusion for Group B:')\n",
    "if p_value_B < 0.05:\n",
    "    print(\"Reject null hypothesis\")\n",
    "else:\n",
    "    print(\"Accept null hypothesis\")"
   ]
  }
 ],
 "metadata": {},
 "nbformat": 4,
 "nbformat_minor": 5
}
